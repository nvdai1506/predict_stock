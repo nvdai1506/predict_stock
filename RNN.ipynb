{
 "cells": [
  {
   "cell_type": "code",
   "execution_count": null,
   "source": [
    "#  python 3.7\r\n",
    "#  tensorflow 1.14\r\n",
    "#  pip install tensorflow==1.14"
   ],
   "outputs": [],
   "metadata": {}
  },
  {
   "cell_type": "code",
   "execution_count": 9,
   "source": [
    "import numpy as np\r\n",
    "import pandas as pd\r\n",
    "import utils as u\r\n",
    "\r\n",
    "import math\r\n",
    "# import tensorflow as tf\r\n",
    "import tensorflow.compat.v1 as tf\r\n",
    "tf.disable_v2_behavior() \r\n",
    "print(tf.version.VERSION)"
   ],
   "outputs": [
    {
     "output_type": "stream",
     "name": "stdout",
     "text": [
      "2.5.0\n"
     ]
    }
   ],
   "metadata": {}
  },
  {
   "cell_type": "code",
   "execution_count": 3,
   "source": [
    "df = pd.read_csv(\"NSE-TATA.csv\")\r\n",
    "df.head()\r\n",
    "\r\n",
    "#Analyze the closing prices from dataframe:+\r\n",
    "df[\"Date\"] = pd.to_datetime(df.Date,format=\"%Y-%m-%d\")\r\n",
    "df.index = df['Date']\r\n",
    "\r\n",
    "#Sort the dataset on date time and # filter “Date” and “Close” columns:\r\n",
    "data = df.sort_index(ascending=True,axis=0)\r\n",
    "new_dataset = pd.DataFrame(index=range(0,len(df)),columns=['Date','Close'])\r\n",
    "for i in range(0,len(data)):\r\n",
    "    new_dataset[\"Date\"][i] = data['Date'][i]\r\n",
    "    new_dataset[\"Close\"][i] = data[\"Close\"][i]\r\n",
    "# Normalize the new filtered dataset:\r\n",
    "new_dataset.index = new_dataset.Date\r\n",
    "new_dataset.drop(\"Date\",axis=1,inplace=True)\r\n",
    "dataset = new_dataset.values"
   ],
   "outputs": [],
   "metadata": {}
  },
  {
   "cell_type": "code",
   "execution_count": 4,
   "source": [
    "dataset = dataset.flatten()\r\n",
    "series = np.array(dataset)\r\n",
    "n_windows = 10  \r\n",
    "n_input =  1\r\n",
    "n_output = 1\r\n",
    "size_train = 1001\r\n",
    "## Split data\r\n",
    "train = series[:size_train]\r\n",
    "test = series[size_train:1232]\r\n",
    "print(train.shape, test.shape)\r\n",
    "def create_batches(windows, input, output):\r\n",
    "    ## Create X         \r\n",
    "        x_data = train[:size_train-1] # Select the data\r\n",
    "        x_batches = x_data.reshape(-1, windows, input)  # Reshape the data \r\n",
    "        x_test_data = test[:len(test)-1]\r\n",
    "        x_test = x_test_data.reshape(-1, windows, input)  # Reshape the data\r\n",
    "    ## Create y\r\n",
    "        y_data = train[n_output:size_train]\r\n",
    "        y_batches = y_data.reshape(-1, windows, output)\r\n",
    "        y_test_data = test[n_output:]\r\n",
    "        y_test = y_test_data.reshape(-1, windows, output)\r\n",
    "        return x_batches, y_batches, x_test, y_test\r\n",
    "        \r\n",
    "x_batches, y_batches, x_test, y_test = create_batches(  windows = n_windows,\r\n",
    "                                                        input = n_input,\r\n",
    "                                                        output = n_output)\r\n",
    "print(test.shape)\r\n",
    "\r\n",
    "print(x_batches.shape, y_batches.shape)\r\n",
    "print(x_test.shape, y_test.shape)"
   ],
   "outputs": [
    {
     "output_type": "stream",
     "name": "stdout",
     "text": [
      "(1001,) (231,)\n",
      "(231,)\n",
      "(100, 10, 1) (100, 10, 1)\n",
      "(23, 10, 1) (23, 10, 1)\n"
     ]
    }
   ],
   "metadata": {}
  },
  {
   "cell_type": "code",
   "execution_count": null,
   "source": [
    "tf.compat.v1.disable_eager_execution()\r\n",
    "tf.compat.v1.placeholder(tf.float32, [None, n_windows, n_input]) \t"
   ],
   "outputs": [],
   "metadata": {}
  },
  {
   "cell_type": "code",
   "execution_count": null,
   "source": [
    "tf.reset_default_graph()\r\n",
    "r_neuron = 120    \r\n",
    "\r\n",
    "## 1. Construct the tensors\r\n",
    "X = tf.placeholder(tf.float32, [None, n_windows, n_input])   \r\n",
    "y = tf.placeholder(tf.float32, [None, n_windows, n_output])\r\n",
    "\r\n",
    "## 2. create the model\r\n",
    "basic_cell = tf.contrib.rnn.BasicRNNCell(num_units=r_neuron, activation=tf.nn.relu)   \r\n",
    "rnn_output, states = tf.nn.dynamic_rnn(basic_cell, X, dtype=tf.float32)              \r\n",
    "\r\n",
    "stacked_rnn_output = tf.reshape(rnn_output, [-1, r_neuron])          \r\n",
    "stacked_outputs = tf.layers.dense(stacked_rnn_output, n_output)       \r\n",
    "outputs = tf.reshape(stacked_outputs, [-1, n_windows, n_output])   \r\n",
    "\r\n",
    "## 3. Loss + optimization\r\n",
    "learning_rate = 0.001  \r\n",
    " \r\n",
    "loss = tf.reduce_sum(tf.square(outputs - y))    \r\n",
    "optimizer = tf.train.AdamOptimizer(learning_rate=learning_rate)         \r\n",
    "training_op = optimizer.minimize(loss)                                          \r\n",
    "\r\n",
    "init = tf.global_variables_initializer() "
   ],
   "outputs": [],
   "metadata": {}
  },
  {
   "cell_type": "code",
   "execution_count": null,
   "source": [
    "saver = tf.train.Saver()\r\n",
    "tf.add_to_collection('outputs', outputs)\r\n",
    "tf.add_to_collection('outputs', X)\r\n",
    "\r\n",
    "iteration = 1500 \r\n",
    "\r\n",
    "with tf.Session() as sess:\r\n",
    "    init.run()\r\n",
    "    for iters in range(iteration):\r\n",
    "        sess.run(training_op, feed_dict={X: x_batches, y: y_batches})\r\n",
    "        if iters % 150 == 0:\r\n",
    "            mse = loss.eval(feed_dict={X: x_batches, y: y_batches})\r\n",
    "            print(iters, \"\\tMSE:\", mse)\r\n",
    "    print('outputs: ', outputs)\r\n",
    "    y_pred = sess.run(outputs, feed_dict={X: x_test})\r\n",
    "    save_path = saver.save(sess, \"RNN.ckpt\")\r\n",
    "    print(\"Model saved in path: %s\" % save_path)"
   ],
   "outputs": [],
   "metadata": {}
  },
  {
   "cell_type": "code",
   "execution_count": null,
   "source": [
    "y_test = y_test.flatten()\r\n",
    "y_pred = y_pred.flatten()\r\n",
    "#get the root mean squared error(RMSE)\r\n",
    "rmse = np.sqrt(np.mean(y_pred - y_test)**2)\r\n",
    "print('rmse: ', rmse)"
   ],
   "outputs": [],
   "metadata": {}
  },
  {
   "cell_type": "code",
   "execution_count": 21,
   "source": [
    "def load_RNN(meta_file,x_test,y_test):\r\n",
    "    sess = tf.Session()\r\n",
    "    new_saver = tf.train.import_meta_graph(meta_file)\r\n",
    "    new_saver.restore(sess, tf.train.latest_checkpoint('./'))\r\n",
    "    outputs2 = tf.get_collection('outputs')\r\n",
    "    y_pred = sess.run(outputs2[0],feed_dict={outputs2[1]: x_test})\r\n",
    "    rmse = np.sqrt(np.mean(y_pred - y_test)**2)\r\n",
    "    print('rmse: ', rmse)\r\n",
    "load_RNN(\"RNN.ckpt.meta\",x_test,y_test)"
   ],
   "outputs": [
    {
     "output_type": "stream",
     "name": "stdout",
     "text": [
      "INFO:tensorflow:Restoring parameters from ./RNN.ckpt\n",
      "rmse:  0.3295145051375691\n"
     ]
    }
   ],
   "metadata": {}
  },
  {
   "cell_type": "code",
   "execution_count": 31,
   "source": [
    "import utils as u\r\n",
    "u.load_RNN(\"RNN.ckpt.meta\",x_test,y_test)"
   ],
   "outputs": [
    {
     "output_type": "error",
     "ename": "AttributeError",
     "evalue": "module 'tensorflow' has no attribute 'Session'",
     "traceback": [
      "\u001b[1;31m---------------------------------------------------------------------------\u001b[0m",
      "\u001b[1;31mAttributeError\u001b[0m                            Traceback (most recent call last)",
      "\u001b[1;32m<ipython-input-31-d009b078c267>\u001b[0m in \u001b[0;36m<module>\u001b[1;34m\u001b[0m\n\u001b[0;32m      1\u001b[0m \u001b[1;32mimport\u001b[0m \u001b[0mutils\u001b[0m \u001b[1;32mas\u001b[0m \u001b[0mu\u001b[0m\u001b[1;33m\u001b[0m\u001b[1;33m\u001b[0m\u001b[0m\n\u001b[1;32m----> 2\u001b[1;33m \u001b[0mu\u001b[0m\u001b[1;33m.\u001b[0m\u001b[0mload_RNN\u001b[0m\u001b[1;33m(\u001b[0m\u001b[1;34m\"RNN.ckpt.meta\"\u001b[0m\u001b[1;33m,\u001b[0m\u001b[0mx_test\u001b[0m\u001b[1;33m,\u001b[0m\u001b[0my_test\u001b[0m\u001b[1;33m)\u001b[0m\u001b[1;33m\u001b[0m\u001b[1;33m\u001b[0m\u001b[0m\n\u001b[0m",
      "\u001b[1;32mc:\\Cong_nghe_moi\\AI\\predict_stock\\utils.py\u001b[0m in \u001b[0;36mload_RNN\u001b[1;34m(meta_file, x_test, y_test)\u001b[0m\n\u001b[0;32m     16\u001b[0m \u001b[1;32mimport\u001b[0m \u001b[0mtensorflow\u001b[0m\u001b[1;33m.\u001b[0m\u001b[0mcompat\u001b[0m\u001b[1;33m.\u001b[0m\u001b[0mv1\u001b[0m \u001b[1;32mas\u001b[0m \u001b[0mtf\u001b[0m\u001b[1;33m\u001b[0m\u001b[1;33m\u001b[0m\u001b[0m\n\u001b[0;32m     17\u001b[0m \u001b[1;33m\u001b[0m\u001b[0m\n\u001b[1;32m---> 18\u001b[1;33m \u001b[1;33m\u001b[0m\u001b[0m\n\u001b[0m\u001b[0;32m     19\u001b[0m \u001b[1;32mdef\u001b[0m \u001b[0mload_RNN\u001b[0m\u001b[1;33m(\u001b[0m\u001b[0mmeta_file\u001b[0m\u001b[1;33m,\u001b[0m\u001b[0mx_test\u001b[0m\u001b[1;33m,\u001b[0m\u001b[0my_test\u001b[0m\u001b[1;33m)\u001b[0m\u001b[1;33m:\u001b[0m\u001b[1;33m\u001b[0m\u001b[1;33m\u001b[0m\u001b[0m\n\u001b[0;32m     20\u001b[0m     \u001b[0mprint\u001b[0m\u001b[1;33m(\u001b[0m\u001b[0mtf\u001b[0m\u001b[1;33m.\u001b[0m\u001b[0mversion\u001b[0m\u001b[1;33m.\u001b[0m\u001b[0mVERSION\u001b[0m\u001b[1;33m)\u001b[0m\u001b[1;33m\u001b[0m\u001b[1;33m\u001b[0m\u001b[0m\n",
      "\u001b[1;31mAttributeError\u001b[0m: module 'tensorflow' has no attribute 'Session'"
     ]
    }
   ],
   "metadata": {}
  },
  {
   "cell_type": "code",
   "execution_count": null,
   "source": [
    "%matplotlib inline\r\n",
    "import matplotlib\r\n",
    "import matplotlib.pyplot as plt\r\n",
    "plt.title(\"Forecast vs Actual\", fontsize=14)\r\n",
    "plt.plot(pd.Series(np.ravel(y_test)), \"bo\", markersize=8, label=\"Actual\", color='green')\r\n",
    "plt.plot(pd.Series(np.ravel(y_pred)), \"r.\", markersize=8, label=\"Forecast\", color='red')\r\n",
    "plt.legend(loc=\"lower left\")\r\n",
    "plt.xlabel(\"Time\")\r\n",
    "\r\n",
    "plt.show()"
   ],
   "outputs": [],
   "metadata": {}
  }
 ],
 "metadata": {
  "orig_nbformat": 4,
  "language_info": {
   "name": "python"
  }
 },
 "nbformat": 4,
 "nbformat_minor": 2
}