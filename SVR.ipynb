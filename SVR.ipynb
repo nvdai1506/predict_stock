{
 "cells": [
  {
   "cell_type": "code",
   "execution_count": 23,
   "metadata": {},
   "outputs": [],
   "source": [
    "import numpy as np\r\n",
    "import pandas as pd\r\n",
    "\r\n",
    "import utils as u\r\n",
    "from sklearn.preprocessing import StandardScaler"
   ]
  },
  {
   "cell_type": "code",
   "execution_count": 24,
   "metadata": {},
   "outputs": [
    {
     "name": "stdout",
     "output_type": "stream",
     "text": [
      "247\n"
     ]
    }
   ],
   "source": [
    "#Read the dataset:\r\n",
    "df = pd.read_csv(\"NSE-TATA.csv\")\r\n",
    "df.head()\r\n",
    "\r\n",
    "#Analyze the closing prices from dataframe:+\r\n",
    "df[\"Date\"] = pd.to_datetime(df.Date,format=\"%Y-%m-%d\")\r\n",
    "df.index = df['Date']\r\n",
    "\r\n",
    "#Sort the dataset on date time and # filter “Date” and “Close” columns:\r\n",
    "data = df.sort_index(ascending=True,axis=0)\r\n",
    "new_dataset = pd.DataFrame(index=range(0,len(df)),columns=['Date','Close'])\r\n",
    "for i in range(0,len(data)):\r\n",
    "    new_dataset[\"Date\"][i] = data['Date'][i]\r\n",
    "    new_dataset[\"Close\"][i] = data[\"Close\"][i]\r\n",
    "# Normalize the new filtered dataset:\r\n",
    "new_dataset.index = new_dataset.Date\r\n",
    "new_dataset.drop(\"Date\",axis=1,inplace=True)\r\n",
    "dataset = new_dataset.values\r\n",
    "\r\n",
    "# n previous close price wanna traning\r\n",
    "number_of_previous_close_prices = 60\r\n",
    "\r\n",
    "train_data,test_data = u.create_data(dataset,0.8)\r\n",
    "\r\n",
    "\r\n",
    "\r\n",
    "x_train, y_train = u.create_x_y_train(train_data,number_of_previous_close_prices)\r\n",
    "x_test, y_test = u.create_x_y_test(test_data,number_of_previous_close_prices)"
   ]
  },
  {
   "cell_type": "code",
   "execution_count": 16,
   "metadata": {},
   "outputs": [],
   "source": [
    "# y_train = y_train.reshape(-1,1)\r\n",
    "# sc_X = StandardScaler()\r\n",
    "# sc_y = StandardScaler()\r\n",
    "# x_train = sc_X.fit_transform(x_train)\r\n",
    "\r\n",
    "# y_train = sc_y.fit_transform(y_train)"
   ]
  },
  {
   "cell_type": "code",
   "execution_count": 25,
   "metadata": {},
   "outputs": [
    {
     "data": {
      "text/plain": [
       "SVR(kernel='linear')"
      ]
     },
     "execution_count": 25,
     "metadata": {},
     "output_type": "execute_result"
    }
   ],
   "source": [
    "from sklearn.svm import SVR\r\n",
    "regressor = SVR(kernel = 'linear')\r\n",
    "regressor.fit(x_train, y_train)"
   ]
  },
  {
   "cell_type": "code",
   "execution_count": 26,
   "metadata": {},
   "outputs": [
    {
     "data": {
      "text/plain": [
       "array([309.48389443, 310.86494583, 308.95239005, 314.5578193 ,\n",
       "       318.7593321 , 310.61419064, 311.67434558, 325.57119446,\n",
       "       320.79667247, 311.96026972, 312.51839533, 305.21524286,\n",
       "       306.86809075, 310.5367966 , 307.14980184, 302.84907377,\n",
       "       304.53350625, 302.57637306, 302.56483805, 292.7021703 ,\n",
       "       289.24822123, 274.90894853, 273.73738184, 267.78447898,\n",
       "       279.67867471, 281.6662306 , 280.81161822, 282.79681518,\n",
       "       281.06760489, 278.29196283, 273.4826    , 265.44084566,\n",
       "       262.58817734, 266.50088095, 264.35268561, 272.45358583,\n",
       "       274.31021258, 272.3223081 , 275.03024972, 273.73054303,\n",
       "       272.66781035, 274.34290876, 269.5165633 , 272.17420007,\n",
       "       268.62817617, 277.98153412, 278.18650243, 278.80779137,\n",
       "       276.44228374, 273.21775989, 258.83152445, 261.31331606,\n",
       "       263.51820443, 261.33200752, 257.77841252, 263.80351507,\n",
       "       263.46918884, 261.16468882, 274.70375708, 272.76831206,\n",
       "       268.67257774, 271.87151237, 271.46224977, 276.2376301 ,\n",
       "       273.39768047, 273.29859488, 272.23084511, 272.96896859,\n",
       "       278.68612433, 281.36154065, 280.601936  , 281.42157923,\n",
       "       287.10725087, 280.34541384, 281.24780591, 288.21724272,\n",
       "       289.88052802, 291.28799164, 297.15963514, 289.87391892,\n",
       "       286.69459339, 285.67908739, 290.57348986, 288.29076917,\n",
       "       292.96420713, 284.40152534, 285.78894962, 258.15402197,\n",
       "       243.25181653, 239.5475867 , 250.26276959, 249.8526296 ,\n",
       "       246.42578636, 246.61446348, 249.25151742, 253.56494252,\n",
       "       257.88509801, 258.38705325, 254.53034793, 263.47094667,\n",
       "       270.60071898, 260.11650227, 251.82643945, 263.06204007,\n",
       "       263.5192542 , 265.22672058, 267.87545245, 264.2258372 ,\n",
       "       264.01035687, 269.33755377, 275.14031153, 272.87750859,\n",
       "       273.60616123, 269.10958963, 261.13293969, 256.91361731,\n",
       "       258.12985134, 267.22216567, 267.32687675, 266.63002827,\n",
       "       263.04555203, 270.07834569, 264.4391015 , 279.80808734,\n",
       "       275.13630512, 270.40303297, 265.73438726, 275.09755857,\n",
       "       275.28411328, 270.7249806 , 262.20619394, 257.72826747,\n",
       "       243.40793901, 247.11858575, 238.37546983, 234.40607452,\n",
       "       236.56915001, 245.33493964, 244.50827179, 237.47181147,\n",
       "       236.07514589, 241.07476916, 240.68035936, 245.76425113,\n",
       "       237.93409852, 237.138154  , 233.19278099, 240.06025184,\n",
       "       238.38260295, 235.85734658, 237.22033499, 233.07554678,\n",
       "       234.45859872, 234.78752047, 240.74573682, 242.8033874 ,\n",
       "       245.38504538, 239.36378055, 234.67997272, 230.9961463 ,\n",
       "       236.94230324, 232.43341143, 235.61373551, 234.86691396,\n",
       "       234.10798191, 236.49210722, 226.50655996, 218.68697778,\n",
       "       220.5493355 , 224.98331641, 224.12033173, 216.77174263,\n",
       "       224.70758367, 231.59385935, 238.83600542, 234.32484041,\n",
       "       233.25522182, 229.88847731, 234.08126133, 235.40631053,\n",
       "       230.64827542, 232.27003944, 233.97062495, 229.69820606,\n",
       "       226.26149766, 217.21621423, 209.34565129])"
      ]
     },
     "execution_count": 26,
     "metadata": {},
     "output_type": "execute_result"
    }
   ],
   "source": [
    "# sc_X = StandardScaler()\r\n",
    "# x_test = sc_X.fit_transform(x_test)\r\n",
    "y_pred = regressor.predict(x_test)\r\n",
    "# y_pred = sc_y.inverse_transform(y_pred) \r\n",
    "y_pred"
   ]
  },
  {
   "cell_type": "code",
   "execution_count": 27,
   "metadata": {},
   "outputs": [
    {
     "data": {
      "text/plain": [
       "0.9786071748373857"
      ]
     },
     "execution_count": 27,
     "metadata": {},
     "output_type": "execute_result"
    }
   ],
   "source": [
    "regressor.score(x_train,y_train)"
   ]
  },
  {
   "cell_type": "code",
   "execution_count": 28,
   "metadata": {},
   "outputs": [
    {
     "data": {
      "text/plain": [
       "{'C': 1.0,\n",
       " 'cache_size': 200,\n",
       " 'coef0': 0.0,\n",
       " 'degree': 3,\n",
       " 'epsilon': 0.1,\n",
       " 'gamma': 'scale',\n",
       " 'kernel': 'linear',\n",
       " 'max_iter': -1,\n",
       " 'shrinking': True,\n",
       " 'tol': 0.001,\n",
       " 'verbose': False}"
      ]
     },
     "execution_count": 28,
     "metadata": {},
     "output_type": "execute_result"
    }
   ],
   "source": [
    "regressor.get_params()"
   ]
  },
  {
   "cell_type": "code",
   "execution_count": 30,
   "metadata": {},
   "outputs": [
    {
     "name": "stdout",
     "output_type": "stream",
     "text": [
      "[312.25] 309.4838944277832\n",
      "[312.95] 310.86494583454225\n",
      "[317.6] 308.9523900494056\n",
      "[315.3] 314.55781930202977\n",
      "[314.1] 318.7593321039709\n",
      "[313.3] 310.6141906447116\n",
      "[325.75] 311.6743455778302\n",
      "[323.0] 325.57119446114996\n",
      "[316.4] 320.7966724742688\n",
      "[313.55] 311.960269717743\n"
     ]
    }
   ],
   "source": [
    "for (e,r) in zip(y_test[:10],y_pred[:10]):\r\n",
    "    print(e , r)\r\n"
   ]
  },
  {
   "cell_type": "code",
   "execution_count": 31,
   "metadata": {},
   "outputs": [
    {
     "name": "stdout",
     "output_type": "stream",
     "text": [
      "rmse:  0.04573708598493122\n"
     ]
    }
   ],
   "source": [
    "rmse = np.sqrt(np.mean(y_pred - y_test)**2)\r\n",
    "print('rmse: ', rmse)"
   ]
  },
  {
   "cell_type": "code",
   "execution_count": 33,
   "metadata": {},
   "outputs": [],
   "source": [
    "u.save_pickle(regressor, \"SVR.pkl\")"
   ]
  },
  {
   "cell_type": "code",
   "execution_count": 49,
   "metadata": {},
   "outputs": [
    {
     "name": "stdout",
     "output_type": "stream",
     "text": [
      "0.9452323579392736\n"
     ]
    }
   ],
   "source": [
    "#test\r\n",
    "score = u.load_pickle(\"SVR.pkl\").score(x_test,y_test)\r\n",
    "print(score)"
   ]
  }
 ],
 "metadata": {
  "interpreter": {
   "hash": "38740d3277777e2cd7c6c2cc9d8addf5118fdf3f82b1b39231fd12aeac8aee8b"
  },
  "kernelspec": {
   "display_name": "Python 3.9.2 64-bit",
   "name": "python3"
  },
  "language_info": {
   "codemirror_mode": {
    "name": "ipython",
    "version": 3
   },
   "file_extension": ".py",
   "mimetype": "text/x-python",
   "name": "python",
   "nbconvert_exporter": "python",
   "pygments_lexer": "ipython3",
   "version": "3.9.2"
  },
  "orig_nbformat": 4
 },
 "nbformat": 4,
 "nbformat_minor": 2
}