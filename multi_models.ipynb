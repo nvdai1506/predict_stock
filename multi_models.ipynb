{
 "cells": [
  {
   "cell_type": "code",
   "execution_count": 2,
   "metadata": {},
   "outputs": [],
   "source": [
    "import os\r\n",
    "import numpy as np\r\n",
    "import pandas as pd\r\n",
    "import xgboost as xgb\r\n",
    "import matplotlib.pyplot as plt\r\n",
    "\r\n",
    "from sklearn.metrics import mean_squared_error\r\n",
    "from sklearn.preprocessing import MinMaxScaler\r\n",
    "from sklearn.model_selection import train_test_split, GridSearchCV\r\n",
    "from sklearn import preprocessing\r\n",
    "from sklearn import utils\r\n",
    "from sklearn import metrics\r\n",
    "\r\n",
    "from sklearn.preprocessing import StandardScaler\r\n",
    "from sklearn.decomposition import PCA\r\n",
    "\r\n",
    "from sklearn.linear_model import LinearRegression\r\n",
    "from sklearn.linear_model import LogisticRegression\r\n",
    "from sklearn.ensemble import RandomForestClassifier\r\n",
    "from sklearn.svm import SVC\r\n",
    "from sklearn.neighbors import KNeighborsClassifier\r\n",
    "from sklearn.tree import DecisionTreeClassifier\r\n",
    "\r\n",
    "import utils as u\r\n"
   ]
  },
  {
   "cell_type": "code",
   "execution_count": 3,
   "metadata": {},
   "outputs": [
    {
     "name": "stdout",
     "output_type": "stream",
     "text": [
      "247\n"
     ]
    }
   ],
   "source": [
    "#Read the dataset:\r\n",
    "df = pd.read_csv(\"NSE-TATA.csv\")\r\n",
    "df.head()\r\n",
    "\r\n",
    "#Analyze the closing prices from dataframe:+\r\n",
    "df[\"Date\"] = pd.to_datetime(df.Date,format=\"%Y-%m-%d\")\r\n",
    "df.index = df['Date']\r\n",
    "\r\n",
    "#Sort the dataset on date time and # filter “Date” and “Close” columns:\r\n",
    "data = df.sort_index(ascending=True,axis=0)\r\n",
    "new_dataset = pd.DataFrame(index=range(0,len(df)),columns=['Date','Close'])\r\n",
    "for i in range(0,len(data)):\r\n",
    "    new_dataset[\"Date\"][i] = data['Date'][i]\r\n",
    "    new_dataset[\"Close\"][i] = data[\"Close\"][i]\r\n",
    "# Normalize the new filtered dataset:\r\n",
    "new_dataset.index = new_dataset.Date\r\n",
    "new_dataset.drop(\"Date\",axis=1,inplace=True)\r\n",
    "dataset = new_dataset.values\r\n",
    "\r\n",
    "#convert between 0 - 1\r\n",
    "# scaler = MinMaxScaler(feature_range=(0,1))\r\n",
    "# scaled_data = scaler.fit_transform(dataset)\r\n",
    "\r\n",
    "\r\n",
    "\r\n",
    "# n previous close price wanna traning\r\n",
    "number_of_previous_close_prices = 60\r\n",
    "\r\n",
    "train_data,test_data = u.create_data(dataset,0.8)\r\n",
    "\r\n",
    "\r\n",
    "\r\n",
    "x_train, y_train = u.create_x_y_train(train_data,number_of_previous_close_prices)\r\n",
    "x_test, y_test = u.create_x_y_test(test_data,number_of_previous_close_prices)\r\n",
    "\r\n",
    "scaler = StandardScaler()\r\n",
    "scaler.fit(x_train)\r\n",
    "x_train = scaler.transform(x_train)\r\n",
    "x_test = scaler.transform(x_test)\r\n",
    "pca = PCA() \r\n",
    "pca.fit(x_train)\r\n",
    "x_train = pca.transform(x_train)\r\n",
    "x_test = pca.transform(x_test)"
   ]
  },
  {
   "cell_type": "code",
   "execution_count": 4,
   "metadata": {},
   "outputs": [
    {
     "name": "stdout",
     "output_type": "stream",
     "text": [
      "(928, 60) (928,)\n",
      "(187, 60) (187, 1)\n"
     ]
    }
   ],
   "source": [
    "print(x_train.shape, y_train.shape)\r\n",
    "print(x_test.shape, y_test.shape)"
   ]
  },
  {
   "cell_type": "code",
   "execution_count": 64,
   "metadata": {},
   "outputs": [],
   "source": [
    "y_train = y_train.astype(int)\r\n",
    "y_test = y_test.astype(int)"
   ]
  },
  {
   "cell_type": "code",
   "execution_count": 45,
   "metadata": {},
   "outputs": [
    {
     "data": {
      "text/plain": [
       "numpy.float64"
      ]
     },
     "execution_count": 45,
     "metadata": {},
     "output_type": "execute_result"
    }
   ],
   "source": [
    "type(x_train[0][0])"
   ]
  },
  {
   "cell_type": "code",
   "execution_count": 50,
   "metadata": {},
   "outputs": [],
   "source": [
    "#convert y_train to multi class\r\n",
    "lab_enc = preprocessing.LabelEncoder()\r\n",
    "y_train = lab_enc.fit_transform(y_train)\r\n",
    "y_test = lab_enc.fit_transform(y_test)\r\n"
   ]
  },
  {
   "cell_type": "code",
   "execution_count": 6,
   "metadata": {},
   "outputs": [],
   "source": [
    "test = lab_enc.inverse_transform(y_train)\r\n",
    "scaler.inverse_transform(test.reshape(-1,1))"
   ]
  },
  {
   "cell_type": "code",
   "execution_count": 6,
   "metadata": {},
   "outputs": [],
   "source": [
    "#LogisticRegression\r\n",
    "# parameters1 = [    \r\n",
    "#         {\r\n",
    "#             'penalty' : ['l1','l2','elasticnet'],\r\n",
    "#             'C':np.logspace(-4, 4, 10),\r\n",
    "#             'solver': ['saga','lbfgs','sag','newton-cg'],\r\n",
    "#             'max_iter' : [100, 1000,2500, 5000]\r\n",
    "#         }\r\n",
    "#     ]\r\n",
    "parameters1 = [    \r\n",
    "        {\r\n",
    "            'penalty' : ['l2'],\r\n",
    "            'C':np.logspace(-4, 4, 10),\r\n",
    "            'solver': ['lbfgs'],\r\n",
    "            'max_iter' : [100, 1000,2500, 5000]\r\n",
    "        }\r\n",
    "    ]\r\n",
    "#RandomForestClassifier\r\n",
    "parameters2 = [    \r\n",
    "        {\r\n",
    "            'n_estimators': [200, 300, 500,750, 800, 1200], #The number of trees in the forest.\r\n",
    "            'max_features': ['auto', 'sqrt', 'log2'] #The number of features to consider when looking for the best split:\r\n",
    "        }\r\n",
    "    ]\r\n",
    "#SVC\r\n",
    "parameters3 = [    \r\n",
    "        {\r\n",
    "            'C':np.logspace(-4, 4, 10), #Regularization parameter. The strength of the regularization is inversely proportional to C.\r\n",
    "            'gamma': ['scale', 'auto'], #Kernel coefficient for ‘rbf’, ‘poly’ and ‘sigmoid’\r\n",
    "            'kernel': ['rbf', 'poly', 'sigmoid'] #specifies the kernel type to be used in the algorithm\r\n",
    "        }\r\n",
    "    ]\r\n",
    "#KNeighborsClassifier\r\n",
    "parameters4 = [    \r\n",
    "        {\r\n",
    "            \"n_neighbors\":np.arange(20)+1, #Number of neighbors \r\n",
    "            \"leaf_size\":np.arange(25,40)+1\r\n",
    "        }\r\n",
    "    ]\r\n",
    "#DecisionTreeClassifier\r\n",
    "parameters5 = [    \r\n",
    "        {\r\n",
    "            \"criterion\":['gini', 'entropy'],\r\n",
    "            \"max_depth\":np.linspace(1, 32, 32, endpoint=True)  #The maximum depth of the tree\r\n",
    "        }\r\n",
    "    ]\r\n",
    "\r\n",
    "parameters = {}\r\n",
    "parameters['LogisticRegression'] = parameters1\r\n",
    "parameters['RandomForestClassifier'] = parameters2\r\n",
    "parameters['SVC'] = parameters3\r\n",
    "parameters['KNeighborsClassifier'] = parameters4\r\n",
    "parameters['DecisionTreeClassifier'] = parameters5"
   ]
  },
  {
   "cell_type": "code",
   "execution_count": 58,
   "metadata": {},
   "outputs": [
    {
     "data": {
      "text/plain": [
       "{'LogisticRegression': [{'penalty': ['l2'],\n",
       "   'C': array([1.00000000e-04, 7.74263683e-04, 5.99484250e-03, 4.64158883e-02,\n",
       "          3.59381366e-01, 2.78255940e+00, 2.15443469e+01, 1.66810054e+02,\n",
       "          1.29154967e+03, 1.00000000e+04]),\n",
       "   'solver': ['lbfgs'],\n",
       "   'max_iter': [100, 1000, 2500, 5000]}],\n",
       " 'RandomForestClassifier': [{'n_estimators': [200, 300, 500, 750, 800, 1200],\n",
       "   'max_features': ['auto', 'sqrt', 'log2']}],\n",
       " 'SVC': [{'C': array([1.00000000e-04, 7.74263683e-04, 5.99484250e-03, 4.64158883e-02,\n",
       "          3.59381366e-01, 2.78255940e+00, 2.15443469e+01, 1.66810054e+02,\n",
       "          1.29154967e+03, 1.00000000e+04]),\n",
       "   'gamma': ['scale', 'auto'],\n",
       "   'kernel': ['rbf', 'poly', 'sigmoid']}],\n",
       " 'KNeighborsClassifier': [{'n_neighbors': array([ 1,  2,  3,  4,  5,  6,  7,  8,  9, 10, 11, 12, 13, 14, 15, 16, 17,\n",
       "          18, 19, 20]),\n",
       "   'leaf_size': array([26, 27, 28, 29, 30, 31, 32, 33, 34, 35, 36, 37, 38, 39, 40])}],\n",
       " 'DecisionTreeClassifier': [{'criterion': ['gini', 'entropy'],\n",
       "   'max_depth': array([ 1.,  2.,  3.,  4.,  5.,  6.,  7.,  8.,  9., 10., 11., 12., 13.,\n",
       "          14., 15., 16., 17., 18., 19., 20., 21., 22., 23., 24., 25., 26.,\n",
       "          27., 28., 29., 30., 31., 32.])}]}"
      ]
     },
     "execution_count": 58,
     "metadata": {},
     "output_type": "execute_result"
    }
   ],
   "source": [
    "parameters"
   ]
  },
  {
   "cell_type": "code",
   "execution_count": 10,
   "metadata": {},
   "outputs": [
    {
     "data": {
      "text/plain": [
       "numpy.float32"
      ]
     },
     "execution_count": 10,
     "metadata": {},
     "output_type": "execute_result"
    }
   ],
   "source": [
    "y_train = np.float32(y_train)\r\n",
    "type(y_train[1])"
   ]
  },
  {
   "cell_type": "code",
   "execution_count": 12,
   "metadata": {},
   "outputs": [
    {
     "name": "stdout",
     "output_type": "stream",
     "text": [
      "coefficient of determination: 0.9799280228917286\n"
     ]
    }
   ],
   "source": [
    "y_train = y_train.reshape((-1, 1))\r\n",
    "model = LinearRegression()\r\n",
    "model.fit(x_train, y_train)\r\n",
    "r_sq = model.score(x_train, y_train)\r\n",
    "print('coefficient of determination:', r_sq)\r\n"
   ]
  },
  {
   "cell_type": "code",
   "execution_count": 19,
   "metadata": {},
   "outputs": [
    {
     "name": "stdout",
     "output_type": "stream",
     "text": [
      "rmse:  0.22917667553843069\n"
     ]
    }
   ],
   "source": [
    "y_pred = model.predict(x_test)\r\n",
    "rmse = np.sqrt(np.mean(y_pred - y_test)**2)\r\n",
    "print('rmse: ', rmse)\r\n"
   ]
  },
  {
   "cell_type": "code",
   "execution_count": 65,
   "metadata": {},
   "outputs": [],
   "source": [
    "logisticRegr = LogisticRegression(n_jobs = -1)\r\n",
    "logisticRegr.fit(x_train, y_train)\r\n",
    "predictions = logisticRegr.predict(x_test) #test_img_pca #test_pca"
   ]
  },
  {
   "cell_type": "code",
   "execution_count": 66,
   "metadata": {},
   "outputs": [
    {
     "data": {
      "text/plain": [
       "array([209, 209, 209, 209, 209, 209, 209, 209, 209, 209, 209, 209, 209,\n",
       "       209, 209, 209, 209, 209, 209, 209, 209, 209, 209, 209, 209, 209,\n",
       "       209, 209, 209, 209, 161, 161, 161, 161, 161, 161, 161, 161, 161,\n",
       "       161, 161, 161, 161, 161, 161, 161, 161, 164, 164, 164, 164, 164,\n",
       "       164, 164, 164, 164, 164, 164, 164, 164, 164, 164, 164, 164, 164,\n",
       "       164, 164, 164, 164, 164, 164, 164, 164, 164, 164, 164, 164, 164,\n",
       "       164, 164, 164, 164, 164, 164, 164, 164, 164, 164, 164, 164, 164,\n",
       "       164, 164, 164, 164, 164, 164, 164, 161, 161, 161, 161, 164, 164,\n",
       "       164, 164, 164, 164, 209, 161, 161, 161, 161, 161, 161, 161, 164,\n",
       "       164, 164, 164, 164, 164, 164, 164, 164, 164, 164, 164, 164, 164,\n",
       "       164, 164, 164, 164, 164, 164, 164, 164, 164, 164, 164, 164, 164,\n",
       "       164, 164, 164, 161, 161, 161, 161, 161, 161, 161, 161, 161, 161,\n",
       "       161, 161, 161, 161, 161, 164, 164, 164, 164, 164, 164, 164, 164,\n",
       "       164, 164, 164, 164, 164, 161, 161, 164, 164, 164, 161, 164, 164,\n",
       "       164, 164, 164, 164, 164])"
      ]
     },
     "execution_count": 66,
     "metadata": {},
     "output_type": "execute_result"
    }
   ],
   "source": [
    "predictions"
   ]
  },
  {
   "cell_type": "code",
   "execution_count": 28,
   "metadata": {},
   "outputs": [
    {
     "name": "stdout",
     "output_type": "stream",
     "text": [
      "Fitting 3 folds for each of 40 candidates, totalling 120 fits\n"
     ]
    },
    {
     "name": "stderr",
     "output_type": "stream",
     "text": [
      "C:\\Python\\lib\\site-packages\\sklearn\\model_selection\\_split.py:666: UserWarning: The least populated class in y has only 1 members, which is less than n_splits=3.\n",
      "  warnings.warn((\"The least populated class in y has only %d\"\n",
      "C:\\Python\\lib\\site-packages\\sklearn\\linear_model\\_logistic.py:763: ConvergenceWarning: lbfgs failed to converge (status=1):\n",
      "STOP: TOTAL NO. of ITERATIONS REACHED LIMIT.\n",
      "\n",
      "Increase the number of iterations (max_iter) or scale the data as shown in:\n",
      "    https://scikit-learn.org/stable/modules/preprocessing.html\n",
      "Please also refer to the documentation for alternative solver options:\n",
      "    https://scikit-learn.org/stable/modules/linear_model.html#logistic-regression\n",
      "  n_iter_i = _check_optimize_result(\n",
      "C:\\Python\\lib\\site-packages\\sklearn\\model_selection\\_split.py:666: UserWarning: The least populated class in y has only 1 members, which is less than n_splits=3.\n",
      "  warnings.warn((\"The least populated class in y has only %d\"\n"
     ]
    },
    {
     "name": "stdout",
     "output_type": "stream",
     "text": [
      "GridSearchCV(cv=3, estimator=LogisticRegression(), n_jobs=-1,\n",
      "             param_grid=[{'C': array([1.00000000e-04, 7.74263683e-04, 5.99484250e-03, 4.64158883e-02,\n",
      "       3.59381366e-01, 2.78255940e+00, 2.15443469e+01, 1.66810054e+02,\n",
      "       1.29154967e+03, 1.00000000e+04]),\n",
      "                          'max_iter': [100, 1000, 2500, 5000],\n",
      "                          'penalty': ['l2'], 'solver': ['lbfgs']}],\n",
      "             scoring='accuracy', verbose=2)\n",
      "0.015092041618818946\n",
      "{'C': 10000.0, 'max_iter': 1000, 'penalty': 'l2', 'solver': 'lbfgs'}\n",
      "Fitting 3 folds for each of 18 candidates, totalling 54 fits\n",
      "GridSearchCV(cv=3, estimator=RandomForestClassifier(), n_jobs=-1,\n",
      "             param_grid=[{'max_features': ['auto', 'sqrt', 'log2'],\n",
      "                          'n_estimators': [200, 300, 500, 750, 800, 1200]}],\n",
      "             scoring='accuracy', verbose=2)\n",
      "0.01185927549848627\n",
      "{'max_features': 'log2', 'n_estimators': 200}\n",
      "Fitting 3 folds for each of 60 candidates, totalling 180 fits\n"
     ]
    },
    {
     "name": "stderr",
     "output_type": "stream",
     "text": [
      "C:\\Python\\lib\\site-packages\\sklearn\\model_selection\\_split.py:666: UserWarning: The least populated class in y has only 1 members, which is less than n_splits=3.\n",
      "  warnings.warn((\"The least populated class in y has only %d\"\n"
     ]
    },
    {
     "name": "stdout",
     "output_type": "stream",
     "text": [
      "GridSearchCV(cv=3, estimator=SVC(), n_jobs=-1,\n",
      "             param_grid=[{'C': array([1.00000000e-04, 7.74263683e-04, 5.99484250e-03, 4.64158883e-02,\n",
      "       3.59381366e-01, 2.78255940e+00, 2.15443469e+01, 1.66810054e+02,\n",
      "       1.29154967e+03, 1.00000000e+04]),\n",
      "                          'gamma': ['scale', 'auto'],\n",
      "                          'kernel': ['rbf', 'poly', 'sigmoid']}],\n",
      "             scoring='accuracy', verbose=2)\n",
      "0.016167310436023246\n",
      "{'C': 2.782559402207126, 'gamma': 'scale', 'kernel': 'rbf'}\n",
      "Fitting 3 folds for each of 300 candidates, totalling 900 fits\n"
     ]
    },
    {
     "name": "stderr",
     "output_type": "stream",
     "text": [
      "C:\\Python\\lib\\site-packages\\sklearn\\model_selection\\_split.py:666: UserWarning: The least populated class in y has only 1 members, which is less than n_splits=3.\n",
      "  warnings.warn((\"The least populated class in y has only %d\"\n"
     ]
    },
    {
     "name": "stdout",
     "output_type": "stream",
     "text": [
      "GridSearchCV(cv=3, estimator=KNeighborsClassifier(), n_jobs=-1,\n",
      "             param_grid=[{'leaf_size': array([26, 27, 28, 29, 30, 31, 32, 33, 34, 35, 36, 37, 38, 39, 40]),\n",
      "                          'n_neighbors': array([ 1,  2,  3,  4,  5,  6,  7,  8,  9, 10, 11, 12, 13, 14, 15, 16, 17,\n",
      "       18, 19, 20])}],\n",
      "             scoring='accuracy', verbose=2)\n",
      "0.009698298360998017\n",
      "{'leaf_size': 26, 'n_neighbors': 1}\n",
      "Fitting 3 folds for each of 64 candidates, totalling 192 fits\n"
     ]
    },
    {
     "name": "stderr",
     "output_type": "stream",
     "text": [
      "C:\\Python\\lib\\site-packages\\sklearn\\model_selection\\_split.py:666: UserWarning: The least populated class in y has only 1 members, which is less than n_splits=3.\n",
      "  warnings.warn((\"The least populated class in y has only %d\"\n"
     ]
    },
    {
     "name": "stdout",
     "output_type": "stream",
     "text": [
      "GridSearchCV(cv=3, estimator=DecisionTreeClassifier(), n_jobs=-1,\n",
      "             param_grid=[{'criterion': ['gini', 'entropy'],\n",
      "                          'max_depth': array([ 1.,  2.,  3.,  4.,  5.,  6.,  7.,  8.,  9., 10., 11., 12., 13.,\n",
      "       14., 15., 16., 17., 18., 19., 20., 21., 22., 23., 24., 25., 26.,\n",
      "       27., 28., 29., 30., 31., 32.])}],\n",
      "             scoring='accuracy', verbose=2)\n",
      "0.01616383060166336\n",
      "{'criterion': 'entropy', 'max_depth': 15.0}\n"
     ]
    }
   ],
   "source": [
    "\r\n",
    "for element in parameters.keys():\r\n",
    "    model = element\r\n",
    "    if(model == 'LogisticRegression'):\r\n",
    "        grid_search = GridSearchCV(estimator = LogisticRegression(), param_grid = parameters[element] , scoring = 'accuracy', cv = 'None', n_jobs = -1 , verbose = 2)\r\n",
    "        grid_scores = grid_search.fit(x_train , y_train)\r\n",
    "    if(model == 'RandomForestClassifier'):\r\n",
    "        grid_search = GridSearchCV(estimator = RandomForestClassifier(), param_grid = parameters[element] , scoring = 'accuracy', cv = 'None', n_jobs = -1 , verbose = 2)\r\n",
    "        grid_scores = grid_search.fit(x_train , y_train)\r\n",
    "    if(model == 'SVC'):\r\n",
    "        grid_search = GridSearchCV(estimator = SVC(), param_grid = parameters[element] , scoring = 'accuracy', cv = 'None', n_jobs = -1 , verbose = 2)\r\n",
    "        grid_scores = grid_search.fit(x_train , y_train)\r\n",
    "    if(model == 'KNeighborsClassifier'):\r\n",
    "        grid_search = GridSearchCV(estimator = KNeighborsClassifier(), param_grid = parameters[element] , scoring = 'accuracy', cv = 'None', n_jobs = -1 , verbose = 2)\r\n",
    "        grid_scores = grid_search.fit(x_train , y_train)\r\n",
    "    if(model == 'DecisionTreeClassifier'):\r\n",
    "        grid_search = GridSearchCV(estimator = DecisionTreeClassifier(), param_grid = parameters[element] , scoring = 'accuracy', cv = 'None', n_jobs = -1 , verbose = 2)\r\n",
    "        grid_scores = grid_search.fit(x_train , y_train)\r\n",
    "    \r\n",
    "    print( grid_search)\r\n",
    "    print( grid_search.best_score_)\r\n",
    "    print( grid_search.best_params_)\r\n",
    "    u.save_model(grid_search,f'{element}.txt')"
   ]
  },
  {
   "cell_type": "code",
   "execution_count": 43,
   "metadata": {},
   "outputs": [
    {
     "name": "stdout",
     "output_type": "stream",
     "text": [
      "SVC Accuracy: 0.0053475935828877\n"
     ]
    }
   ],
   "source": [
    "from sklearn import metrics\r\n",
    "# params_log = u.load_model('LogisticRegression.txt').best_params_\r\n",
    "# params_log\r\n",
    "svcc = SVC()\r\n",
    "svcc.fit(x_train,y_train)\r\n",
    "y_pred = svcc.predict(x_test)\r\n",
    "print(\"SVC Accuracy:\",metrics.accuracy_score(y_test, y_pred))"
   ]
  },
  {
   "cell_type": "code",
   "execution_count": 44,
   "metadata": {},
   "outputs": [
    {
     "data": {
      "text/plain": [
       "array([168, 169, 175, 173, 172, 170, 177, 176, 174, 171, 164, 166, 167,\n",
       "       165, 163, 163, 161, 162, 154, 151, 119, 112,  92, 136, 137, 131,\n",
       "       144, 140, 133, 124,  98,  78,  91,  76, 106, 114, 120, 123, 119,\n",
       "       125, 116, 100, 113,  99, 126, 130, 132, 134, 109,  71,  74,  79,\n",
       "        69,  66,  77,  83,  68, 127, 118, 105, 111, 110, 129, 123, 115,\n",
       "       115, 123, 135, 138, 143, 146, 147, 142, 141, 152, 155, 157, 160,\n",
       "       158, 148, 150, 159, 153, 156, 145, 149,  63,  48,  45,  58,  53,\n",
       "        52,  57,  60,  61,  65,  72,  64,  86, 101,  80,  62,  82,  89,\n",
       "        95,  93,  81,  97, 103, 129, 108, 122,  94,  73,  67,  75,  86,\n",
       "        96,  88,  84, 102,  85, 139, 128, 107,  90, 121, 117, 104,  87,\n",
       "        70,  50,  59,  40,  13,  39,  51,  55,  34,  41,  47,  46,  56,\n",
       "        28,  27,  24,  43,  38,  31,  36,  17,  22,  37,  42,  49,  54,\n",
       "        44,  27,  12,  35,  16,  22,  29,  21,  33,   9,   6,   4,   8,\n",
       "         5,   2,   7,  19,  32,  26,  25,  23,  15,  30,  20,  14,  18,\n",
       "        11,  10,   3,   0,   1], dtype=int64)"
      ]
     },
     "execution_count": 44,
     "metadata": {},
     "output_type": "execute_result"
    }
   ],
   "source": [
    "y_test"
   ]
  },
  {
   "cell_type": "code",
   "execution_count": 45,
   "metadata": {},
   "outputs": [
    {
     "data": {
      "text/plain": [
       "array([29, 29, 29, 29, 29, 29, 29, 29, 29, 29, 29, 29, 29, 29, 29, 29, 29,\n",
       "       29, 29, 29, 29, 29, 29, 29, 29, 29, 29, 29, 29, 29, 29, 29, 29, 29,\n",
       "       29, 29, 29, 29, 29, 29, 29, 29, 29, 29, 29, 29, 29, 29, 29, 29, 29,\n",
       "       29, 29, 29, 29, 29, 29, 29, 29, 29, 29, 29, 29, 29, 29, 29, 29, 29,\n",
       "       29, 29, 29, 29, 29, 29, 29, 29, 29, 29, 29, 29, 29, 29, 29, 29, 29,\n",
       "       29, 29, 29, 29, 29, 29, 29, 29, 29, 29, 29, 29, 29, 29, 29, 29, 29,\n",
       "       29, 29, 29, 29, 29, 29, 29, 29, 29, 29, 29, 29, 29, 29, 29, 29, 29,\n",
       "       29, 29, 29, 29, 29, 29, 29, 29, 29, 29, 29, 29, 29, 29, 29, 29, 29,\n",
       "       29, 29, 29, 29, 29, 29, 29, 29, 29, 29, 29, 29, 29, 29, 29, 29, 29,\n",
       "       29, 29, 29, 29, 29, 29, 29, 29, 29, 29, 29, 29, 29, 29, 29, 29, 29,\n",
       "       29, 29, 29, 29, 29, 29, 29, 29, 29, 29, 29, 29, 29, 29, 29, 29, 29],\n",
       "      dtype=int64)"
      ]
     },
     "execution_count": 45,
     "metadata": {},
     "output_type": "execute_result"
    }
   ],
   "source": [
    "y_pred"
   ]
  },
  {
   "cell_type": "code",
   "execution_count": 47,
   "metadata": {},
   "outputs": [
    {
     "data": {
      "text/plain": [
       "array([[6572.55],\n",
       "       [6572.55],\n",
       "       [6572.55],\n",
       "       [6572.55],\n",
       "       [6572.55],\n",
       "       [6572.55],\n",
       "       [6572.55],\n",
       "       [6572.55],\n",
       "       [6572.55],\n",
       "       [6572.55],\n",
       "       [6572.55],\n",
       "       [6572.55],\n",
       "       [6572.55],\n",
       "       [6572.55],\n",
       "       [6572.55],\n",
       "       [6572.55],\n",
       "       [6572.55],\n",
       "       [6572.55],\n",
       "       [6572.55],\n",
       "       [6572.55],\n",
       "       [6572.55],\n",
       "       [6572.55],\n",
       "       [6572.55],\n",
       "       [6572.55],\n",
       "       [6572.55],\n",
       "       [6572.55],\n",
       "       [6572.55],\n",
       "       [6572.55],\n",
       "       [6572.55],\n",
       "       [6572.55],\n",
       "       [6572.55],\n",
       "       [6572.55],\n",
       "       [6572.55],\n",
       "       [6572.55],\n",
       "       [6572.55],\n",
       "       [6572.55],\n",
       "       [6572.55],\n",
       "       [6572.55],\n",
       "       [6572.55],\n",
       "       [6572.55],\n",
       "       [6572.55],\n",
       "       [6572.55],\n",
       "       [6572.55],\n",
       "       [6572.55],\n",
       "       [6572.55],\n",
       "       [6572.55],\n",
       "       [6572.55],\n",
       "       [6572.55],\n",
       "       [6572.55],\n",
       "       [6572.55],\n",
       "       [6572.55],\n",
       "       [6572.55],\n",
       "       [6572.55],\n",
       "       [6572.55],\n",
       "       [6572.55],\n",
       "       [6572.55],\n",
       "       [6572.55],\n",
       "       [6572.55],\n",
       "       [6572.55],\n",
       "       [6572.55],\n",
       "       [6572.55],\n",
       "       [6572.55],\n",
       "       [6572.55],\n",
       "       [6572.55],\n",
       "       [6572.55],\n",
       "       [6572.55],\n",
       "       [6572.55],\n",
       "       [6572.55],\n",
       "       [6572.55],\n",
       "       [6572.55],\n",
       "       [6572.55],\n",
       "       [6572.55],\n",
       "       [6572.55],\n",
       "       [6572.55],\n",
       "       [6572.55],\n",
       "       [6572.55],\n",
       "       [6572.55],\n",
       "       [6572.55],\n",
       "       [6572.55],\n",
       "       [6572.55],\n",
       "       [6572.55],\n",
       "       [6572.55],\n",
       "       [6572.55],\n",
       "       [6572.55],\n",
       "       [6572.55],\n",
       "       [6572.55],\n",
       "       [6572.55],\n",
       "       [6572.55],\n",
       "       [6572.55],\n",
       "       [6572.55],\n",
       "       [6572.55],\n",
       "       [6572.55],\n",
       "       [6572.55],\n",
       "       [6572.55],\n",
       "       [6572.55],\n",
       "       [6572.55],\n",
       "       [6572.55],\n",
       "       [6572.55],\n",
       "       [6572.55],\n",
       "       [6572.55],\n",
       "       [6572.55],\n",
       "       [6572.55],\n",
       "       [6572.55],\n",
       "       [6572.55],\n",
       "       [6572.55],\n",
       "       [6572.55],\n",
       "       [6572.55],\n",
       "       [6572.55],\n",
       "       [6572.55],\n",
       "       [6572.55],\n",
       "       [6572.55],\n",
       "       [6572.55],\n",
       "       [6572.55],\n",
       "       [6572.55],\n",
       "       [6572.55],\n",
       "       [6572.55],\n",
       "       [6572.55],\n",
       "       [6572.55],\n",
       "       [6572.55],\n",
       "       [6572.55],\n",
       "       [6572.55],\n",
       "       [6572.55],\n",
       "       [6572.55],\n",
       "       [6572.55],\n",
       "       [6572.55],\n",
       "       [6572.55],\n",
       "       [6572.55],\n",
       "       [6572.55],\n",
       "       [6572.55],\n",
       "       [6572.55],\n",
       "       [6572.55],\n",
       "       [6572.55],\n",
       "       [6572.55],\n",
       "       [6572.55],\n",
       "       [6572.55],\n",
       "       [6572.55],\n",
       "       [6572.55],\n",
       "       [6572.55],\n",
       "       [6572.55],\n",
       "       [6572.55],\n",
       "       [6572.55],\n",
       "       [6572.55],\n",
       "       [6572.55],\n",
       "       [6572.55],\n",
       "       [6572.55],\n",
       "       [6572.55],\n",
       "       [6572.55],\n",
       "       [6572.55],\n",
       "       [6572.55],\n",
       "       [6572.55],\n",
       "       [6572.55],\n",
       "       [6572.55],\n",
       "       [6572.55],\n",
       "       [6572.55],\n",
       "       [6572.55],\n",
       "       [6572.55],\n",
       "       [6572.55],\n",
       "       [6572.55],\n",
       "       [6572.55],\n",
       "       [6572.55],\n",
       "       [6572.55],\n",
       "       [6572.55],\n",
       "       [6572.55],\n",
       "       [6572.55],\n",
       "       [6572.55],\n",
       "       [6572.55],\n",
       "       [6572.55],\n",
       "       [6572.55],\n",
       "       [6572.55],\n",
       "       [6572.55],\n",
       "       [6572.55],\n",
       "       [6572.55],\n",
       "       [6572.55],\n",
       "       [6572.55],\n",
       "       [6572.55],\n",
       "       [6572.55],\n",
       "       [6572.55],\n",
       "       [6572.55],\n",
       "       [6572.55],\n",
       "       [6572.55],\n",
       "       [6572.55],\n",
       "       [6572.55],\n",
       "       [6572.55],\n",
       "       [6572.55],\n",
       "       [6572.55],\n",
       "       [6572.55],\n",
       "       [6572.55]])"
      ]
     },
     "execution_count": 47,
     "metadata": {},
     "output_type": "execute_result"
    }
   ],
   "source": [
    "y_pred_t = lab_enc.inverse_transform(y_pred)\r\n",
    "scaler.inverse_transform(y_pred_t.reshape(-1,1))"
   ]
  },
  {
   "cell_type": "code",
   "execution_count": 46,
   "metadata": {},
   "outputs": [
    {
     "data": {
      "text/plain": [
       "array([[0.4742268 , 0.47848498, 0.49013895, ..., 0.94240251, 0.93455849,\n",
       "        0.93478261],\n",
       "       [0.47848498, 0.49013895, 0.48229494, ..., 0.93455849, 0.93478261,\n",
       "        0.93948902],\n",
       "       [0.49013895, 0.48229494, 0.47938144, ..., 0.93478261, 0.93948902,\n",
       "        0.94262662],\n",
       "       ...,\n",
       "       [0.75571493, 0.73352757, 0.77364411, ..., 0.58762887, 0.57485433,\n",
       "        0.56006275],\n",
       "       [0.73352757, 0.77364411, 0.77140296, ..., 0.57485433, 0.56006275,\n",
       "        0.51792918],\n",
       "       [0.77364411, 0.77140296, 0.7492156 , ..., 0.56006275, 0.51792918,\n",
       "        0.47758853]])"
      ]
     },
     "execution_count": 46,
     "metadata": {},
     "output_type": "execute_result"
    }
   ],
   "source": [
    "x_test"
   ]
  }
 ],
 "metadata": {
  "interpreter": {
   "hash": "38740d3277777e2cd7c6c2cc9d8addf5118fdf3f82b1b39231fd12aeac8aee8b"
  },
  "kernelspec": {
   "display_name": "Python 3.9.2 64-bit",
   "name": "python3"
  },
  "language_info": {
   "codemirror_mode": {
    "name": "ipython",
    "version": 3
   },
   "file_extension": ".py",
   "mimetype": "text/x-python",
   "name": "python",
   "nbconvert_exporter": "python",
   "pygments_lexer": "ipython3",
   "version": "3.9.2"
  },
  "orig_nbformat": 4
 },
 "nbformat": 4,
 "nbformat_minor": 2
}